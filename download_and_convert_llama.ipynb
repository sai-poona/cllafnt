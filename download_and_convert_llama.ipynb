{
 "cells": [
  {
   "cell_type": "markdown",
   "id": "07b9af28-aa49-4ecf-b744-4e8e5700d385",
   "metadata": {},
   "source": [
    "## Clone CodeLlama repository"
   ]
  },
  {
   "cell_type": "code",
   "execution_count": null,
   "id": "13637663-5af3-46dc-aab6-bc7b1519f006",
   "metadata": {},
   "outputs": [],
   "source": [
    "# ! git clone https://github.com/meta-llama/codellama.git"
   ]
  },
  {
   "cell_type": "markdown",
   "id": "3d3a47db-df90-44c9-bea8-a9b456ecb118",
   "metadata": {},
   "source": [
    "## Download CodeLlama models\n",
    "Follow the instructions in [README.md](https://github.com/meta-llama/codellama?tab=readme-ov-file) to download the required CodeLlama model(s). I have saved my models under the `models` directory in the current working directory"
   ]
  },
  {
   "cell_type": "markdown",
   "id": "9caa06bf-b84e-48dd-ab59-b61a348cdfbf",
   "metadata": {},
   "source": [
    "## Install additional packages"
   ]
  },
  {
   "cell_type": "code",
   "execution_count": 3,
   "id": "84f2b21d-a6da-4094-9098-33d8586208c8",
   "metadata": {
    "tags": []
   },
   "outputs": [],
   "source": [
    "# ! pip install -r requirements.txt"
   ]
  },
  {
   "cell_type": "code",
   "execution_count": 1,
   "id": "43331302-1ecd-42fd-a3be-c63ceaa6a437",
   "metadata": {
    "tags": []
   },
   "outputs": [],
   "source": [
    "import os\n",
    "from transformers.models.llama.convert_llama_weights_to_hf import write_model as convert_llama_weights_to_hf"
   ]
  },
  {
   "cell_type": "code",
   "execution_count": 2,
   "id": "eb2257ac-dbfe-40f2-ada9-dfe5f981b174",
   "metadata": {
    "tags": []
   },
   "outputs": [],
   "source": [
    "CWD = os.getcwd()\n",
    "MODEL_DIR = f\"{CWD}/models\""
   ]
  },
  {
   "cell_type": "code",
   "execution_count": 3,
   "id": "0d087cd2-4789-4072-9dad-990f35e68189",
   "metadata": {
    "tags": []
   },
   "outputs": [
    {
     "name": "stderr",
     "output_type": "stream",
     "text": [
      "You are using the default legacy behaviour of the <class 'transformers.models.llama.tokenization_llama.LlamaTokenizer'>. This is expected, and simply means that the `legacy` (previous) behavior will be used so nothing changes for you. If you want to use the new behaviour, set `legacy=False`. This should only be set if you understand what it means, and thoroughly read the reason why this was added as explained in https://github.com/huggingface/transformers/pull/24565\n"
     ]
    },
    {
     "name": "stdout",
     "output_type": "stream",
     "text": [
      "Fetching all parameters from the checkpoint at /home/ec2-user/SageMaker/cllafnt/models/CodeLlama-7b-Python.\n",
      "Loading the checkpoint in a Llama model.\n"
     ]
    },
    {
     "data": {
      "application/vnd.jupyter.widget-view+json": {
       "model_id": "3504f7dfbd844aa4a07ab263763aff23",
       "version_major": 2,
       "version_minor": 0
      },
      "text/plain": [
       "Loading checkpoint shards:   0%|          | 0/33 [00:00<?, ?it/s]"
      ]
     },
     "metadata": {},
     "output_type": "display_data"
    },
    {
     "name": "stdout",
     "output_type": "stream",
     "text": [
      "Saving in the Transformers format.\n"
     ]
    }
   ],
   "source": [
    "convert_llama_weights_to_hf(\n",
    "    input_base_path=f\"{MODEL_DIR}/CodeLlama-7b-Python\",\n",
    "    tokenizer_path=f\"{MODEL_DIR}/CodeLlama-7b-Python/tokenizer.model\",\n",
    "    model_size=\"7B\",\n",
    "    model_path=f\"{MODEL_DIR}/CodeLlama-7b-Python-HF\",\n",
    "    llama_version=2\n",
    ")"
   ]
  },
  {
   "cell_type": "code",
   "execution_count": null,
   "id": "639c52a5-9c1f-4860-9380-c64e5dc7c521",
   "metadata": {},
   "outputs": [],
   "source": []
  }
 ],
 "metadata": {
  "kernelspec": {
   "display_name": "conda_pytorch_p310",
   "language": "python",
   "name": "conda_pytorch_p310"
  },
  "language_info": {
   "codemirror_mode": {
    "name": "ipython",
    "version": 3
   },
   "file_extension": ".py",
   "mimetype": "text/x-python",
   "name": "python",
   "nbconvert_exporter": "python",
   "pygments_lexer": "ipython3",
   "version": "3.10.13"
  }
 },
 "nbformat": 4,
 "nbformat_minor": 5
}
