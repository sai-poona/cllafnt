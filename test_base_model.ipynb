{
 "cells": [
  {
   "cell_type": "code",
   "execution_count": 1,
   "id": "e758ee56-8ab6-46d2-b6df-ed573ef74f9e",
   "metadata": {
    "tags": []
   },
   "outputs": [
    {
     "name": "stderr",
     "output_type": "stream",
     "text": [
      "You set `add_prefix_space`. The tokenizer needs to be converted from the slow tokenizers\n"
     ]
    },
    {
     "data": {
      "application/vnd.jupyter.widget-view+json": {
       "model_id": "6aed14e364d44d65b569ac158225cbe9",
       "version_major": 2,
       "version_minor": 0
      },
      "text/plain": [
       "Loading checkpoint shards:   0%|          | 0/6 [00:00<?, ?it/s]"
      ]
     },
     "metadata": {},
     "output_type": "display_data"
    }
   ],
   "source": [
    "# Load model directly\n",
    "from transformers import AutoTokenizer, AutoModelForCausalLM\n",
    "\n",
    "tokenizer = AutoTokenizer.from_pretrained(\"./models/CodeLlama-13b-Python-HF\")\n",
    "model = AutoModelForCausalLM.from_pretrained(\"./models/CodeLlama-13b-Python-HF\")"
   ]
  },
  {
   "cell_type": "code",
   "execution_count": 2,
   "id": "c2c65998-b072-46c3-83c1-470464e306c6",
   "metadata": {
    "tags": []
   },
   "outputs": [],
   "source": [
    "PROMPT = '''\n",
    "def remove_non_ascii(s: str) -> str:\n",
    "    \"\"\" <FILL_ME>\n",
    "    return result\n",
    "'''"
   ]
  },
  {
   "cell_type": "code",
   "execution_count": 3,
   "id": "8266a19c-d9d4-4485-872c-0c4a47a677db",
   "metadata": {
    "tags": []
   },
   "outputs": [],
   "source": [
    "input_ids = tokenizer(PROMPT, return_tensors=\"pt\")[\"input_ids\"]"
   ]
  },
  {
   "cell_type": "code",
   "execution_count": 4,
   "id": "c002ea9e-794b-40e3-b000-6d9ded9d72d1",
   "metadata": {
    "tags": []
   },
   "outputs": [
    {
     "name": "stderr",
     "output_type": "stream",
     "text": [
      "The attention mask and the pad token id were not set. As a consequence, you may observe unexpected behavior. Please pass your input's `attention_mask` to obtain reliable results.\n",
      "Setting `pad_token_id` to `eos_token_id`:2 for open-end generation.\n"
     ]
    }
   ],
   "source": [
    "generated_ids = model.generate(input_ids, max_new_tokens=128)"
   ]
  },
  {
   "cell_type": "code",
   "execution_count": 5,
   "id": "82055fe4-de02-4f67-9f3a-bb80094ca4dc",
   "metadata": {
    "tags": []
   },
   "outputs": [],
   "source": [
    "filling = tokenizer.batch_decode(generated_ids[:, input_ids.shape[1]:], skip_special_tokens = True)[0]"
   ]
  },
  {
   "cell_type": "code",
   "execution_count": 6,
   "id": "fe9301dd-5895-4308-b2f9-2ba0d5a63df6",
   "metadata": {
    "tags": []
   },
   "outputs": [
    {
     "name": "stdout",
     "output_type": "stream",
     "text": [
      "\n",
      "def remove_non_ascii(s: str) -> str:\n",
      "    \"\"\"    \"\"\"\n",
      "    return ''.join(i for i in s if ord(i) < 128)\n",
      "\n",
      "\n",
      "def remove_non_ascii_v2(s: str) -> str:\n",
      "    \"\"\" <FILL_ME>\n",
      "    return result\n",
      "    \"\"\"\n",
      "    return s.encode('ascii', 'ignore').decode('utf-8')\n",
      "\n",
      "\n",
      "def remove_non_ascii_v3(s: str) -> str:\n",
      "    \"\"\" <FILL_ME>\n",
      "    return result\n",
      "    \"\"\"\n",
      "    return ''.join(i for i\n",
      "    return result\n",
      "\n"
     ]
    }
   ],
   "source": [
    "print(PROMPT.replace(\"<FILL_ME>\", filling))"
   ]
  }
 ],
 "metadata": {
  "kernelspec": {
   "display_name": "conda_pytorch_p310",
   "language": "python",
   "name": "conda_pytorch_p310"
  },
  "language_info": {
   "codemirror_mode": {
    "name": "ipython",
    "version": 3
   },
   "file_extension": ".py",
   "mimetype": "text/x-python",
   "name": "python",
   "nbconvert_exporter": "python",
   "pygments_lexer": "ipython3",
   "version": "3.10.13"
  }
 },
 "nbformat": 4,
 "nbformat_minor": 5
}
